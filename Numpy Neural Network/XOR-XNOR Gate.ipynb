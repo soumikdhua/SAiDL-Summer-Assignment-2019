{
  "nbformat": 4,
  "nbformat_minor": 0,
  "metadata": {
    "colab": {
      "name": "XOR-XNOR Gate.ipynb",
      "version": "0.3.2",
      "provenance": [],
      "collapsed_sections": [],
      "include_colab_link": true
    },
    "kernelspec": {
      "name": "python3",
      "display_name": "Python 3"
    }
  },
  "cells": [
    {
      "cell_type": "markdown",
      "metadata": {
        "id": "view-in-github",
        "colab_type": "text"
      },
      "source": [
        "<a href=\"https://colab.research.google.com/github/soumikdhua/SAiDL-Summer-Assignment-2019/blob/master/Numpy%20Neural%20Network/XOR-XNOR%20Gate.ipynb\" target=\"_parent\"><img src=\"https://colab.research.google.com/assets/colab-badge.svg\" alt=\"Open In Colab\"/></a>"
      ]
    },
    {
      "cell_type": "markdown",
      "metadata": {
        "id": "bV6Xz1UYvXY4",
        "colab_type": "text"
      },
      "source": [
        "#XOR-XNOR Gate\n",
        "---\n",
        "I have created neural net in numpy which either computes the XOR\n",
        "or the XNOR of two two bit binary numbers depending on the value of a third input. If the third\n",
        "input is 0, the neural net computes the XOR of the two numbers and if the third input is\n",
        "1, the neural net computes the XNOR of the two numbers."
      ]
    },
    {
      "cell_type": "code",
      "metadata": {
        "id": "i9nKxDWzxGRS",
        "colab_type": "code",
        "colab": {}
      },
      "source": [
        "'''Importing numpy'''\n",
        "import numpy as np"
      ],
      "execution_count": 0,
      "outputs": []
    },
    {
      "cell_type": "code",
      "metadata": {
        "id": "jtEWWKlMvfOJ",
        "colab_type": "code",
        "colab": {}
      },
      "source": [
        "'''Implementing the sigmoid and sigmoid derivative function'''\n",
        "\n",
        "def sigmoid(x):\n",
        "  return 1/(1+np.exp(-x))\n",
        "  \n",
        "def sigmoid_deriv(x):  \n",
        "  return (x*(1-x))\n",
        "\n",
        "\n",
        "\n",
        "    "
      ],
      "execution_count": 0,
      "outputs": []
    },
    {
      "cell_type": "code",
      "metadata": {
        "id": "Qpq_rueJvhRR",
        "colab_type": "code",
        "colab": {}
      },
      "source": [
        "'''Input data for XOR-XNOR Gate\n",
        "   I have divided the two input numbers into subparts. So columns 1 & 2 represent the first & second bits of the first number.\n",
        "   Similarly, columns 3 & 4 represent first & second bits of the second number.\n",
        "   Last column in the input decides whether we calculate the XOR or XNOR of the two two bit numbers.\n",
        "   If the input is 0, the neural net computes the XOR of the two numbers and if the input is 1, the neural net computes the XNOR of the two numbers.'''\n",
        "\n",
        "X = np.array([[0,0,0,0,0],\n",
        "\n",
        "            [0,0,0,1,0],\n",
        "\n",
        "            [0,0,1,0,0],\n",
        "\n",
        "            [0,0,1,1,0],\n",
        "\n",
        "            [0,1,0,0,0],\n",
        "\n",
        "            [0,1,0,1,0],\n",
        "\n",
        "            [0,1,1,0,0],\n",
        "\n",
        "            [0,1,1,1,0],\n",
        "\n",
        "            [1,0,0,0,0],\n",
        "\n",
        "            [1,0,0,1,0],\n",
        "\n",
        "            [1,0,1,0,0],\n",
        "\n",
        "            [1,0,1,1,0],\n",
        "\n",
        "            [1,1,0,0,0],\n",
        "\n",
        "            [1,1,0,1,0],\n",
        "\n",
        "            [1,1,1,0,0],\n",
        "\n",
        "            [1,1,1,1,0],\n",
        "             \n",
        "             \n",
        "            [0,0,0,0,1],\n",
        "\n",
        "            [0,0,0,1,1],\n",
        "\n",
        "            [0,0,1,0,1],\n",
        "\n",
        "            [0,0,1,1,1],\n",
        "\n",
        "            [0,1,0,0,1],\n",
        "\n",
        "            [0,1,0,1,1],\n",
        "\n",
        "            [0,1,1,0,1],\n",
        "\n",
        "            [0,1,1,1,1],\n",
        "\n",
        "            [1,0,0,0,1],\n",
        "\n",
        "            [1,0,0,1,1],\n",
        "\n",
        "            [1,0,1,0,1],\n",
        "\n",
        "            [1,0,1,1,1],\n",
        "\n",
        "            [1,1,0,0,1],\n",
        "\n",
        "            [1,1,0,1,1],\n",
        "\n",
        "            [1,1,1,0,1],\n",
        "\n",
        "            [1,1,1,1,1]\n",
        "             \n",
        "            ])\n",
        "\n",
        "\n",
        "\n",
        "\n",
        "\n",
        "'''Output data for XOR-XNOR Gate'''\n",
        "\n",
        "y = np.array([[0,0],\n",
        "\n",
        "             [0,1],\n",
        "\n",
        "             [1,0],\n",
        "\n",
        "             [1,1],\n",
        "\n",
        "             [0,1],\n",
        "\n",
        "             [0,0],\n",
        "\n",
        "             [1,1],\n",
        "\n",
        "             [1,0],\n",
        "\n",
        "             [1,0],\n",
        "\n",
        "             [1,1],\n",
        "\n",
        "             [0,0],\n",
        "\n",
        "             [0,1],\n",
        "\n",
        "             [1,1],\n",
        "\n",
        "             [1,0],\n",
        "\n",
        "             [0,1],\n",
        "\n",
        "             [0,0],\n",
        "              \n",
        "              \n",
        "              \n",
        "             [1,1],\n",
        "\n",
        "             [1,0],\n",
        "\n",
        "             [0,1],\n",
        "\n",
        "             [0,0],\n",
        "\n",
        "             [1,0],\n",
        "\n",
        "             [1,1],\n",
        "\n",
        "             [0,0],\n",
        "\n",
        "             [0,1],\n",
        "\n",
        "             [0,1],\n",
        "\n",
        "             [0,0],\n",
        "\n",
        "             [1,1],\n",
        "\n",
        "             [1,0],\n",
        "\n",
        "             [0,0],\n",
        "\n",
        "             [0,1],\n",
        "\n",
        "             [1,0],\n",
        "\n",
        "             [1,1]\n",
        "             \n",
        "             ])\n",
        "\n",
        "\n"
      ],
      "execution_count": 0,
      "outputs": []
    },
    {
      "cell_type": "code",
      "metadata": {
        "id": "mQ1M9owiz_US",
        "colab_type": "code",
        "colab": {}
      },
      "source": [
        "'''The seed is set to return the same random numbers each time'''\n",
        "\n",
        "np.random.seed(1)                                     "
      ],
      "execution_count": 0,
      "outputs": []
    },
    {
      "cell_type": "code",
      "metadata": {
        "id": "RHG9F1ZVYU9X",
        "colab_type": "code",
        "outputId": "d2ec4645-e807-4f06-ad4e-db23262a633d",
        "colab": {
          "base_uri": "https://localhost:8080/",
          "height": 572
        }
      },
      "source": [
        "'''An array of bias terms'''\n",
        "bias=np.ones((X.shape[0],1))\n",
        "bias"
      ],
      "execution_count": 0,
      "outputs": [
        {
          "output_type": "execute_result",
          "data": {
            "text/plain": [
              "array([[1.],\n",
              "       [1.],\n",
              "       [1.],\n",
              "       [1.],\n",
              "       [1.],\n",
              "       [1.],\n",
              "       [1.],\n",
              "       [1.],\n",
              "       [1.],\n",
              "       [1.],\n",
              "       [1.],\n",
              "       [1.],\n",
              "       [1.],\n",
              "       [1.],\n",
              "       [1.],\n",
              "       [1.],\n",
              "       [1.],\n",
              "       [1.],\n",
              "       [1.],\n",
              "       [1.],\n",
              "       [1.],\n",
              "       [1.],\n",
              "       [1.],\n",
              "       [1.],\n",
              "       [1.],\n",
              "       [1.],\n",
              "       [1.],\n",
              "       [1.],\n",
              "       [1.],\n",
              "       [1.],\n",
              "       [1.],\n",
              "       [1.]])"
            ]
          },
          "metadata": {
            "tags": []
          },
          "execution_count": 5
        }
      ]
    },
    {
      "cell_type": "code",
      "metadata": {
        "id": "TZ3RQc-MY2EA",
        "colab_type": "code",
        "outputId": "93e2f10c-6c88-455a-ec91-ae70c76bdecc",
        "colab": {
          "base_uri": "https://localhost:8080/",
          "height": 572
        }
      },
      "source": [
        "'''Appending the bias term to the inputs'''\n",
        "X_train = np.append(X, bias, axis = 1)\n",
        "X_train"
      ],
      "execution_count": 0,
      "outputs": [
        {
          "output_type": "execute_result",
          "data": {
            "text/plain": [
              "array([[0., 0., 0., 0., 0., 1.],\n",
              "       [0., 0., 0., 1., 0., 1.],\n",
              "       [0., 0., 1., 0., 0., 1.],\n",
              "       [0., 0., 1., 1., 0., 1.],\n",
              "       [0., 1., 0., 0., 0., 1.],\n",
              "       [0., 1., 0., 1., 0., 1.],\n",
              "       [0., 1., 1., 0., 0., 1.],\n",
              "       [0., 1., 1., 1., 0., 1.],\n",
              "       [1., 0., 0., 0., 0., 1.],\n",
              "       [1., 0., 0., 1., 0., 1.],\n",
              "       [1., 0., 1., 0., 0., 1.],\n",
              "       [1., 0., 1., 1., 0., 1.],\n",
              "       [1., 1., 0., 0., 0., 1.],\n",
              "       [1., 1., 0., 1., 0., 1.],\n",
              "       [1., 1., 1., 0., 0., 1.],\n",
              "       [1., 1., 1., 1., 0., 1.],\n",
              "       [0., 0., 0., 0., 1., 1.],\n",
              "       [0., 0., 0., 1., 1., 1.],\n",
              "       [0., 0., 1., 0., 1., 1.],\n",
              "       [0., 0., 1., 1., 1., 1.],\n",
              "       [0., 1., 0., 0., 1., 1.],\n",
              "       [0., 1., 0., 1., 1., 1.],\n",
              "       [0., 1., 1., 0., 1., 1.],\n",
              "       [0., 1., 1., 1., 1., 1.],\n",
              "       [1., 0., 0., 0., 1., 1.],\n",
              "       [1., 0., 0., 1., 1., 1.],\n",
              "       [1., 0., 1., 0., 1., 1.],\n",
              "       [1., 0., 1., 1., 1., 1.],\n",
              "       [1., 1., 0., 0., 1., 1.],\n",
              "       [1., 1., 0., 1., 1., 1.],\n",
              "       [1., 1., 1., 0., 1., 1.],\n",
              "       [1., 1., 1., 1., 1., 1.]])"
            ]
          },
          "metadata": {
            "tags": []
          },
          "execution_count": 6
        }
      ]
    },
    {
      "cell_type": "code",
      "metadata": {
        "id": "hPtIjPDDwFPQ",
        "colab_type": "code",
        "colab": {}
      },
      "source": [
        "'''Initializing the weights'''\n",
        "\n",
        "w0 = 2*np.random.random((6,16)) - 1  # 6x16 matrix of weights ((4 inputs + 1 bias) x 16 nodes in the hidden layer)\n",
        "\n",
        "w1 = 2*np.random.random((16,2)) - 1  # 16x2 matrix of weights. (16 nodes x 2 outputs) - no bias term in the hidden layer.\n",
        "\n"
      ],
      "execution_count": 0,
      "outputs": []
    },
    {
      "cell_type": "code",
      "metadata": {
        "id": "sxyJLCCmBAvL",
        "colab_type": "code",
        "outputId": "8462269b-d354-4bd5-96c2-797536ae3ad4",
        "colab": {
          "base_uri": "https://localhost:8080/",
          "height": 953
        }
      },
      "source": [
        "'''Training our model'''\n",
        "\n",
        "epochs=100000\n",
        "\n",
        "for epoch in range(epochs):\n",
        "\n",
        "\n",
        "\n",
        "    # Forward propagation\n",
        "\n",
        "    lay0 = X_train\n",
        "\n",
        "    lay1 = sigmoid(np.dot(lay0, w0))\n",
        "\n",
        "    lay2 = sigmoid(np.dot(lay1, w1))\n",
        "\n",
        "\n",
        "\n",
        "    # Back propagation\n",
        "\n",
        "    lay2_error = y - lay2\n",
        "\n",
        "    if((epoch+1) % 5000) == 0:                                                  # Print the error every 5000 steps.\n",
        "\n",
        "        print((\"Error after epoch {} - \").format(epoch+1) + str(np.mean(np.abs(lay2_error))))\n",
        "\n",
        "\n",
        "\n",
        "    lay2_delta = lay2_error*sigmoid_deriv(lay2)\n",
        "\n",
        "\n",
        "\n",
        "    lay1_error = lay2_delta.dot(w1.T)\n",
        "\n",
        "\n",
        "\n",
        "    lay1_delta = lay1_error * sigmoid_deriv(lay1)\n",
        "\n",
        "\n",
        "\n",
        "    #update weights\n",
        "\n",
        "    w1 += lay1.T.dot(lay2_delta)\n",
        "\n",
        "    w0 += lay0.T.dot(lay1_delta)\n",
        "\n",
        "\n",
        "\n",
        "print(\"\\nThe output after training is -\")\n",
        "\n",
        "print(lay2)"
      ],
      "execution_count": 0,
      "outputs": [
        {
          "output_type": "stream",
          "text": [
            "Error after epoch 5000 - 0.00500907750847357\n",
            "Error after epoch 10000 - 0.003422878825331286\n",
            "Error after epoch 15000 - 0.0027496346741464027\n",
            "Error after epoch 20000 - 0.0023567436847620688\n",
            "Error after epoch 25000 - 0.0020922832739218473\n",
            "Error after epoch 30000 - 0.0018990074414989408\n",
            "Error after epoch 35000 - 0.0017499548427937013\n",
            "Error after epoch 40000 - 0.0016305611773266757\n",
            "Error after epoch 45000 - 0.0015321852938779109\n",
            "Error after epoch 50000 - 0.0014493366782500237\n",
            "Error after epoch 55000 - 0.0013783390800580862\n",
            "Error after epoch 60000 - 0.0013166269494314094\n",
            "Error after epoch 65000 - 0.0012623487106758332\n",
            "Error after epoch 70000 - 0.0012141303931538807\n",
            "Error after epoch 75000 - 0.0011709282894373893\n",
            "Error after epoch 80000 - 0.0011319335679001192\n",
            "Error after epoch 85000 - 0.001096508502834942\n",
            "Error after epoch 90000 - 0.001064142646187741\n",
            "Error after epoch 95000 - 0.0010344219711154626\n",
            "Error after epoch 100000 - 0.0010070066840181923\n",
            "\n",
            "The output after training is -\n",
            "[[7.40629567e-04 1.47181873e-03]\n",
            " [6.47789429e-04 9.98430014e-01]\n",
            " [9.99319204e-01 6.92286617e-04]\n",
            " [9.99466604e-01 9.98786187e-01]\n",
            " [4.28618497e-04 9.99605524e-01]\n",
            " [4.30376250e-04 1.03071002e-03]\n",
            " [9.99052986e-01 9.99097858e-01]\n",
            " [9.99224819e-01 8.11298512e-04]\n",
            " [9.98499005e-01 7.00643814e-04]\n",
            " [9.98375753e-01 9.98389209e-01]\n",
            " [9.97687024e-04 3.66717891e-04]\n",
            " [1.40801775e-03 9.98558150e-01]\n",
            " [9.98866237e-01 9.99271620e-01]\n",
            " [9.98872381e-01 7.58342529e-04]\n",
            " [1.20905757e-03 9.98884627e-01]\n",
            " [1.64091036e-03 8.58647416e-04]\n",
            " [9.99250081e-01 9.98351486e-01]\n",
            " [9.99243621e-01 1.40492499e-03]\n",
            " [4.45821709e-04 9.98900490e-01]\n",
            " [3.33453918e-04 1.59646931e-03]\n",
            " [9.99397886e-01 9.35808001e-04]\n",
            " [9.99211924e-01 9.98952164e-01]\n",
            " [3.81034638e-04 8.35505435e-04]\n",
            " [2.53728106e-04 9.98754772e-01]\n",
            " [1.11775542e-03 9.98947135e-01]\n",
            " [1.37996879e-03 1.76491326e-03]\n",
            " [9.99217702e-01 9.99256325e-01]\n",
            " [9.99196219e-01 1.76300068e-03]\n",
            " [1.49006969e-03 1.18513836e-03]\n",
            " [1.05546850e-03 9.99034134e-01]\n",
            " [9.99134814e-01 1.42830287e-03]\n",
            " [9.98632301e-01 9.98935256e-01]]\n"
          ],
          "name": "stdout"
        }
      ]
    },
    {
      "cell_type": "code",
      "metadata": {
        "id": "is4AbRwhBDiW",
        "colab_type": "code",
        "outputId": "178aa39e-0620-49e0-f590-f91072f64aa3",
        "colab": {
          "base_uri": "https://localhost:8080/",
          "height": 572
        }
      },
      "source": [
        "'''Print outputs after training rounded off to nearest integer'''\n",
        "\n",
        "print(np.around(lay2))"
      ],
      "execution_count": 0,
      "outputs": [
        {
          "output_type": "stream",
          "text": [
            "[[0. 0.]\n",
            " [0. 1.]\n",
            " [1. 0.]\n",
            " [1. 1.]\n",
            " [0. 1.]\n",
            " [0. 0.]\n",
            " [1. 1.]\n",
            " [1. 0.]\n",
            " [1. 0.]\n",
            " [1. 1.]\n",
            " [0. 0.]\n",
            " [0. 1.]\n",
            " [1. 1.]\n",
            " [1. 0.]\n",
            " [0. 1.]\n",
            " [0. 0.]\n",
            " [1. 1.]\n",
            " [1. 0.]\n",
            " [0. 1.]\n",
            " [0. 0.]\n",
            " [1. 0.]\n",
            " [1. 1.]\n",
            " [0. 0.]\n",
            " [0. 1.]\n",
            " [0. 1.]\n",
            " [0. 0.]\n",
            " [1. 1.]\n",
            " [1. 0.]\n",
            " [0. 0.]\n",
            " [0. 1.]\n",
            " [1. 0.]\n",
            " [1. 1.]]\n"
          ],
          "name": "stdout"
        }
      ]
    },
    {
      "cell_type": "code",
      "metadata": {
        "id": "CEZjs_c4CZ2j",
        "colab_type": "code",
        "colab": {}
      },
      "source": [
        "'''Our custom testcases. You can modify the testcases as per your choice.\n",
        "   Columns 1 & 2 represent the first & second bits of the first number.\n",
        "   Similarly, columns 3 & 4 represent the first & second bits of the second number.\n",
        "   Last column in the input decides whether we calculate the XOR or XNOR of the two two bit numbers.\n",
        "   If the input is 0, the neural net computes the XOR of the two numbers and if the input is 1, the neural net computes the XNOR of the two numbers.'''\n",
        "   \n",
        "x=np.array([[0,0,0,0,1],\n",
        "\n",
        "            [0,0,0,1,1],\n",
        "\n",
        "            [0,0,1,0,1],\n",
        "\n",
        "            [0,0,1,1,1],\n",
        "\n",
        "            [0,1,0,0,1]])\n"
      ],
      "execution_count": 0,
      "outputs": []
    },
    {
      "cell_type": "code",
      "metadata": {
        "id": "26U4SyP3G9Of",
        "colab_type": "code",
        "colab": {}
      },
      "source": [
        "'''Adding the bias term to the inputs'''\n",
        "bias=np.ones((x.shape[0],1))\n",
        "X_test = np.append(x, bias, axis = 1)"
      ],
      "execution_count": 0,
      "outputs": []
    },
    {
      "cell_type": "code",
      "metadata": {
        "id": "mGlGAcdTENdJ",
        "colab_type": "code",
        "outputId": "bc48ad89-552a-49c0-8cb6-b2f3798f8f8c",
        "colab": {
          "base_uri": "https://localhost:8080/",
          "height": 104
        }
      },
      "source": [
        "'''Find the predicted outputs and printing them'''\n",
        "lay0 = X_test\n",
        "\n",
        "lay1 = sigmoid(np.dot(lay0, w0))\n",
        "\n",
        "lay2 = sigmoid(np.dot(lay1, w1))\n",
        "\n",
        "print(np.around(lay2))"
      ],
      "execution_count": 0,
      "outputs": [
        {
          "output_type": "stream",
          "text": [
            "[[1. 1.]\n",
            " [1. 0.]\n",
            " [0. 1.]\n",
            " [0. 0.]\n",
            " [1. 0.]]\n"
          ],
          "name": "stdout"
        }
      ]
    }
  ]
}